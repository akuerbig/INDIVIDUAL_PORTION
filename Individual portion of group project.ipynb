{
 "cells": [
  {
   "cell_type": "code",
   "execution_count": null,
   "id": "7943535f-6b99-4216-ad9e-997edeab3875",
   "metadata": {},
   "outputs": [],
   "source": [
    "text_to_underline = \"Alexis Kuerbig\""
   ]
  },
  {
   "cell_type": "markdown",
   "id": "616c7889-9f02-4eec-8563-2bd8a5519689",
   "metadata": {},
   "source": [
    "# Alexis Kuerbig\n",
    "#### 15606007"
   ]
  },
  {
   "cell_type": "code",
   "execution_count": 2,
   "id": "bfb6758c-4547-4b94-9fc2-1841244ead7d",
   "metadata": {},
   "outputs": [],
   "source": [
    "import pandas as pd\n",
    "import altair as alt"
   ]
  },
  {
   "cell_type": "code",
   "execution_count": null,
   "id": "d0a31b70-9e76-4f15-9f4a-434d2d7d68a9",
   "metadata": {},
   "outputs": [],
   "source": []
  },
  {
   "cell_type": "code",
   "execution_count": null,
   "id": "d5485f61-1ccd-4be9-928f-b80c0b130adb",
   "metadata": {},
   "outputs": [],
   "source": []
  }
 ],
 "metadata": {
  "kernelspec": {
   "display_name": "Python 3 (ipykernel)",
   "language": "python",
   "name": "python3"
  },
  "language_info": {
   "codemirror_mode": {
    "name": "ipython",
    "version": 3
   },
   "file_extension": ".py",
   "mimetype": "text/x-python",
   "name": "python",
   "nbconvert_exporter": "python",
   "pygments_lexer": "ipython3",
   "version": "3.11.9"
  }
 },
 "nbformat": 4,
 "nbformat_minor": 5
}
