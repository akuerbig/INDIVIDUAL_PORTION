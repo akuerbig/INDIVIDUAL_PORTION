{
 "cells": [
  {
   "cell_type": "markdown",
   "id": "616c7889-9f02-4eec-8563-2bd8a5519689",
   "metadata": {},
   "source": [
    "# Alexis Kuerbig\n",
    "#### 15606007"
   ]
  },
  {
   "cell_type": "code",
   "execution_count": 2,
   "id": "bfb6758c-4547-4b94-9fc2-1841244ead7d",
   "metadata": {},
   "outputs": [],
   "source": [
    "import pandas as pd\n",
    "import altair as alt"
   ]
  },
  {
   "cell_type": "code",
   "execution_count": null,
   "id": "d0a31b70-9e76-4f15-9f4a-434d2d7d68a9",
   "metadata": {},
   "outputs": [],
   "source": []
  },
  {
   "cell_type": "code",
   "execution_count": null,
   "id": "d5485f61-1ccd-4be9-928f-b80c0b130adb",
   "metadata": {},
   "outputs": [],
   "source": []
  },
  {
   "cell_type": "code",
   "execution_count": null,
   "id": "420985b5-0419-493b-a12a-b404d72b5b91",
   "metadata": {},
   "outputs": [],
   "source": []
  },
  {
   "cell_type": "code",
   "execution_count": null,
   "id": "37928521-be48-4c05-92f6-f4c0abb33517",
   "metadata": {},
   "outputs": [],
   "source": []
  },
  {
   "cell_type": "code",
   "execution_count": null,
   "id": "e1d4c4a7-738c-44dc-bebf-91a8c4c418d7",
   "metadata": {},
   "outputs": [],
   "source": []
  },
  {
   "cell_type": "markdown",
   "id": "7173d99d-df23-41c6-b452-b7a13a718415",
   "metadata": {},
   "source": [
    "# Data Description"
   ]
  },
  {
   "cell_type": "code",
   "execution_count": null,
   "id": "fe94aab5-ec6f-469b-a8d3-6742f6fa77ac",
   "metadata": {},
   "outputs": [],
   "source": []
  }
 ],
 "metadata": {
  "kernelspec": {
   "display_name": "Python 3 (ipykernel)",
   "language": "python",
   "name": "python3"
  },
  "language_info": {
   "codemirror_mode": {
    "name": "ipython",
    "version": 3
   },
   "file_extension": ".py",
   "mimetype": "text/x-python",
   "name": "python",
   "nbconvert_exporter": "python",
   "pygments_lexer": "ipython3",
   "version": "3.11.9"
  }
 },
 "nbformat": 4,
 "nbformat_minor": 5
}
